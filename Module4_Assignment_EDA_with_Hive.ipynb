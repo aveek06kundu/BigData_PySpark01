{
  "nbformat": 4,
  "nbformat_minor": 0,
  "metadata": {
    "colab": {
      "provenance": [],
      "history_visible": true,
      "include_colab_link": true
    },
    "kernelspec": {
      "name": "python3",
      "display_name": "Python 3"
    },
    "language_info": {
      "name": "python"
    }
  },
  "cells": [
    {
      "cell_type": "markdown",
      "metadata": {
        "id": "view-in-github",
        "colab_type": "text"
      },
      "source": [
        "<a href=\"https://colab.research.google.com/github/aveek06kundu/BigData_PySpark01_ALY6110/blob/main/Module4_Assignment_EDA_with_Hive.ipynb\" target=\"_parent\"><img src=\"https://colab.research.google.com/assets/colab-badge.svg\" alt=\"Open In Colab\"/></a>"
      ]
    },
    {
      "cell_type": "code",
      "execution_count": null,
      "metadata": {
        "id": "uUJOh3tgbNHz"
      },
      "outputs": [],
      "source": [
        "#Install Java and Spark\n",
        "\n",
        "# %% [code]\n",
        "# Install Java\n",
        "!apt-get install openjdk-8-jdk-headless -qq > /dev/null\n",
        "\n",
        "# Download Spark\n",
        "!wget -q https://archive.apache.org/dist/spark/spark-3.0.0/spark-3.0.0-bin-hadoop3.2.tgz\n",
        "\n",
        "# Unzip Spark\n",
        "!tar xf spark-3.0.0-bin-hadoop3.2.tgz\n",
        "\n",
        "# Set environment variables\n",
        "import os\n",
        "os.environ[\"JAVA_HOME\"] = \"/usr/lib/jvm/java-8-openjdk-amd64\"\n",
        "os.environ[\"SPARK_HOME\"] = \"/content/spark-3.0.0-bin-hadoop3.2\"\n",
        "\n",
        "# Install findspark\n",
        "!pip install -q findspark\n"
      ]
    },
    {
      "cell_type": "code",
      "source": [
        "#Initialize Spark\n",
        "\n",
        "# %% [code]\n",
        "import findspark\n",
        "findspark.init()\n",
        "from pyspark.sql import SparkSession\n",
        "\n",
        "# Create SparkSession\n",
        "spark = SparkSession.builder.master(\"local[*]\").getOrCreate()\n"
      ],
      "metadata": {
        "id": "2-6kOhk4bcJL"
      },
      "execution_count": null,
      "outputs": []
    },
    {
      "cell_type": "code",
      "source": [
        "#Verify Spark Installation\n",
        "\n",
        "\n",
        "# %% [code]\n",
        "# Check Spark version\n",
        "spark.version\n",
        "\n",
        "# Output should be '3.0.0'\n",
        "\n",
        "# %% [code]\n",
        "# Print Spark Context information\n",
        "print(spark.sparkContext)\n",
        "print(\"Spark App Name : \"+ spark.sparkContext.appName)\n"
      ],
      "metadata": {
        "colab": {
          "base_uri": "https://localhost:8080/"
        },
        "id": "nYMsy8f8b3OG",
        "outputId": "8e315ec3-956c-46d2-f1c7-e044a8ab18a2"
      },
      "execution_count": null,
      "outputs": [
        {
          "output_type": "stream",
          "name": "stdout",
          "text": [
            "<SparkContext master=local appName=ALY6110_App>\n",
            "Spark App Name : ALY6110_App\n"
          ]
        }
      ]
    },
    {
      "cell_type": "code",
      "source": [
        "#Create and Use Spark Context\n",
        "\n",
        "# %% [code]\n",
        "# Stop the existing SparkContext\n",
        "spark.sparkContext.stop()\n",
        "\n",
        "# %% [code]\n",
        "# Create new SparkContext\n",
        "from pyspark import SparkContext\n",
        "sc = SparkContext(\"local\", \"ALY6110_App\")\n",
        "print(sc.appName)\n"
      ],
      "metadata": {
        "colab": {
          "base_uri": "https://localhost:8080/"
        },
        "id": "w2lt7RlrcCt9",
        "outputId": "bb1923a2-5389-4fff-9f3e-0505008eca52"
      },
      "execution_count": null,
      "outputs": [
        {
          "output_type": "stream",
          "name": "stdout",
          "text": [
            "ALY6110_App\n"
          ]
        }
      ]
    },
    {
      "cell_type": "code",
      "source": [
        "#Load the Dataset\n",
        "\n",
        "\n",
        "# %% [code]\n",
        "# Import necessary libraries\n",
        "from pyspark.sql import SparkSession\n",
        "from pyspark.sql.functions import col\n",
        "\n",
        "# Initialize Spark session\n",
        "spark = SparkSession.builder.appName(\"BostonHousingAnalysis\").getOrCreate()\n",
        "\n",
        "# Load the dataset (assuming it's available as a CSV in a specific path)\n",
        "# If you're running this in Colab, you may need to upload the dataset first\n",
        "\n",
        "##########################################################\n",
        "\n",
        "from google.colab import files\n",
        "\n",
        "#Part 1: Read the given .csv file\n",
        "#Upload the files from the local\n",
        "uploaded = files.upload()\n",
        "\n",
        "\n",
        "#df = spark.read.csv(\"BostonHousing.csv\", header=True, inferSchema=True)\n",
        "#df.show(5)\n",
        "\n",
        "# Get the filename from the uploaded files\n",
        "filename = list(uploaded.keys())[0]\n",
        "\n",
        "# Load the dataset into a PySpark DataFrame\n",
        "df = spark.read.csv(filename, header=True, inferSchema=True)\n",
        "\n",
        "##########################################################\n",
        "\n",
        "#Show the first five rows of the dataframe\n",
        "# Show the first 5 rows of the DataFrame\n",
        "df.show(5)\n",
        "\n",
        "##########################################################\n",
        "\n",
        "# Create a temporary view of the DataFrame for HiveQL queries\n",
        "df.createOrReplaceTempView(\"boston_housing\")\n",
        "\n",
        "# Optional: Save DataFrame as a Hive table (if Hive is configured in your environment)\n",
        "# df.write.saveAsTable(\"boston_housing\")\n",
        "\n",
        "\n",
        "##########################################################"
      ],
      "metadata": {
        "colab": {
          "base_uri": "https://localhost:8080/",
          "height": 262
        },
        "id": "PcrnAlK7fmH8",
        "outputId": "dd248914-bc65-49b5-e6b6-caf32790ea65"
      },
      "execution_count": null,
      "outputs": [
        {
          "output_type": "display_data",
          "data": {
            "text/plain": [
              "<IPython.core.display.HTML object>"
            ],
            "text/html": [
              "\n",
              "     <input type=\"file\" id=\"files-d1284e7a-1620-4bd6-8ad4-de904296c2c3\" name=\"files[]\" multiple disabled\n",
              "        style=\"border:none\" />\n",
              "     <output id=\"result-d1284e7a-1620-4bd6-8ad4-de904296c2c3\">\n",
              "      Upload widget is only available when the cell has been executed in the\n",
              "      current browser session. Please rerun this cell to enable.\n",
              "      </output>\n",
              "      <script>// Copyright 2017 Google LLC\n",
              "//\n",
              "// Licensed under the Apache License, Version 2.0 (the \"License\");\n",
              "// you may not use this file except in compliance with the License.\n",
              "// You may obtain a copy of the License at\n",
              "//\n",
              "//      http://www.apache.org/licenses/LICENSE-2.0\n",
              "//\n",
              "// Unless required by applicable law or agreed to in writing, software\n",
              "// distributed under the License is distributed on an \"AS IS\" BASIS,\n",
              "// WITHOUT WARRANTIES OR CONDITIONS OF ANY KIND, either express or implied.\n",
              "// See the License for the specific language governing permissions and\n",
              "// limitations under the License.\n",
              "\n",
              "/**\n",
              " * @fileoverview Helpers for google.colab Python module.\n",
              " */\n",
              "(function(scope) {\n",
              "function span(text, styleAttributes = {}) {\n",
              "  const element = document.createElement('span');\n",
              "  element.textContent = text;\n",
              "  for (const key of Object.keys(styleAttributes)) {\n",
              "    element.style[key] = styleAttributes[key];\n",
              "  }\n",
              "  return element;\n",
              "}\n",
              "\n",
              "// Max number of bytes which will be uploaded at a time.\n",
              "const MAX_PAYLOAD_SIZE = 100 * 1024;\n",
              "\n",
              "function _uploadFiles(inputId, outputId) {\n",
              "  const steps = uploadFilesStep(inputId, outputId);\n",
              "  const outputElement = document.getElementById(outputId);\n",
              "  // Cache steps on the outputElement to make it available for the next call\n",
              "  // to uploadFilesContinue from Python.\n",
              "  outputElement.steps = steps;\n",
              "\n",
              "  return _uploadFilesContinue(outputId);\n",
              "}\n",
              "\n",
              "// This is roughly an async generator (not supported in the browser yet),\n",
              "// where there are multiple asynchronous steps and the Python side is going\n",
              "// to poll for completion of each step.\n",
              "// This uses a Promise to block the python side on completion of each step,\n",
              "// then passes the result of the previous step as the input to the next step.\n",
              "function _uploadFilesContinue(outputId) {\n",
              "  const outputElement = document.getElementById(outputId);\n",
              "  const steps = outputElement.steps;\n",
              "\n",
              "  const next = steps.next(outputElement.lastPromiseValue);\n",
              "  return Promise.resolve(next.value.promise).then((value) => {\n",
              "    // Cache the last promise value to make it available to the next\n",
              "    // step of the generator.\n",
              "    outputElement.lastPromiseValue = value;\n",
              "    return next.value.response;\n",
              "  });\n",
              "}\n",
              "\n",
              "/**\n",
              " * Generator function which is called between each async step of the upload\n",
              " * process.\n",
              " * @param {string} inputId Element ID of the input file picker element.\n",
              " * @param {string} outputId Element ID of the output display.\n",
              " * @return {!Iterable<!Object>} Iterable of next steps.\n",
              " */\n",
              "function* uploadFilesStep(inputId, outputId) {\n",
              "  const inputElement = document.getElementById(inputId);\n",
              "  inputElement.disabled = false;\n",
              "\n",
              "  const outputElement = document.getElementById(outputId);\n",
              "  outputElement.innerHTML = '';\n",
              "\n",
              "  const pickedPromise = new Promise((resolve) => {\n",
              "    inputElement.addEventListener('change', (e) => {\n",
              "      resolve(e.target.files);\n",
              "    });\n",
              "  });\n",
              "\n",
              "  const cancel = document.createElement('button');\n",
              "  inputElement.parentElement.appendChild(cancel);\n",
              "  cancel.textContent = 'Cancel upload';\n",
              "  const cancelPromise = new Promise((resolve) => {\n",
              "    cancel.onclick = () => {\n",
              "      resolve(null);\n",
              "    };\n",
              "  });\n",
              "\n",
              "  // Wait for the user to pick the files.\n",
              "  const files = yield {\n",
              "    promise: Promise.race([pickedPromise, cancelPromise]),\n",
              "    response: {\n",
              "      action: 'starting',\n",
              "    }\n",
              "  };\n",
              "\n",
              "  cancel.remove();\n",
              "\n",
              "  // Disable the input element since further picks are not allowed.\n",
              "  inputElement.disabled = true;\n",
              "\n",
              "  if (!files) {\n",
              "    return {\n",
              "      response: {\n",
              "        action: 'complete',\n",
              "      }\n",
              "    };\n",
              "  }\n",
              "\n",
              "  for (const file of files) {\n",
              "    const li = document.createElement('li');\n",
              "    li.append(span(file.name, {fontWeight: 'bold'}));\n",
              "    li.append(span(\n",
              "        `(${file.type || 'n/a'}) - ${file.size} bytes, ` +\n",
              "        `last modified: ${\n",
              "            file.lastModifiedDate ? file.lastModifiedDate.toLocaleDateString() :\n",
              "                                    'n/a'} - `));\n",
              "    const percent = span('0% done');\n",
              "    li.appendChild(percent);\n",
              "\n",
              "    outputElement.appendChild(li);\n",
              "\n",
              "    const fileDataPromise = new Promise((resolve) => {\n",
              "      const reader = new FileReader();\n",
              "      reader.onload = (e) => {\n",
              "        resolve(e.target.result);\n",
              "      };\n",
              "      reader.readAsArrayBuffer(file);\n",
              "    });\n",
              "    // Wait for the data to be ready.\n",
              "    let fileData = yield {\n",
              "      promise: fileDataPromise,\n",
              "      response: {\n",
              "        action: 'continue',\n",
              "      }\n",
              "    };\n",
              "\n",
              "    // Use a chunked sending to avoid message size limits. See b/62115660.\n",
              "    let position = 0;\n",
              "    do {\n",
              "      const length = Math.min(fileData.byteLength - position, MAX_PAYLOAD_SIZE);\n",
              "      const chunk = new Uint8Array(fileData, position, length);\n",
              "      position += length;\n",
              "\n",
              "      const base64 = btoa(String.fromCharCode.apply(null, chunk));\n",
              "      yield {\n",
              "        response: {\n",
              "          action: 'append',\n",
              "          file: file.name,\n",
              "          data: base64,\n",
              "        },\n",
              "      };\n",
              "\n",
              "      let percentDone = fileData.byteLength === 0 ?\n",
              "          100 :\n",
              "          Math.round((position / fileData.byteLength) * 100);\n",
              "      percent.textContent = `${percentDone}% done`;\n",
              "\n",
              "    } while (position < fileData.byteLength);\n",
              "  }\n",
              "\n",
              "  // All done.\n",
              "  yield {\n",
              "    response: {\n",
              "      action: 'complete',\n",
              "    }\n",
              "  };\n",
              "}\n",
              "\n",
              "scope.google = scope.google || {};\n",
              "scope.google.colab = scope.google.colab || {};\n",
              "scope.google.colab._files = {\n",
              "  _uploadFiles,\n",
              "  _uploadFilesContinue,\n",
              "};\n",
              "})(self);\n",
              "</script> "
            ]
          },
          "metadata": {}
        },
        {
          "output_type": "stream",
          "name": "stdout",
          "text": [
            "Saving BostonHousing.csv to BostonHousing (2).csv\n",
            "+-------+----+-----+----+-----+-----+----+------+---+---+-------+------+-----+----+\n",
            "|   crim|  zn|indus|chas|  nox|   rm| age|   dis|rad|tax|ptratio|     b|lstat|medv|\n",
            "+-------+----+-----+----+-----+-----+----+------+---+---+-------+------+-----+----+\n",
            "|0.00632|18.0| 2.31|   0|0.538|6.575|65.2|  4.09|  1|296|   15.3| 396.9| 4.98|24.0|\n",
            "|0.02731| 0.0| 7.07|   0|0.469|6.421|78.9|4.9671|  2|242|   17.8| 396.9| 9.14|21.6|\n",
            "|0.02729| 0.0| 7.07|   0|0.469|7.185|61.1|4.9671|  2|242|   17.8|392.83| 4.03|34.7|\n",
            "|0.03237| 0.0| 2.18|   0|0.458|6.998|45.8|6.0622|  3|222|   18.7|394.63| 2.94|33.4|\n",
            "|0.06905| 0.0| 2.18|   0|0.458|7.147|54.2|6.0622|  3|222|   18.7| 396.9| 5.33|36.2|\n",
            "+-------+----+-----+----+-----+-----+----+------+---+---+-------+------+-----+----+\n",
            "only showing top 5 rows\n",
            "\n"
          ]
        }
      ]
    },
    {
      "cell_type": "code",
      "source": [
        "#Task 1: Data Overview\n",
        "\n",
        "\n",
        "##########################################################\n",
        "\n",
        "#We have created a Temp view of the dataframe named \"boston_housing\"\n",
        "\n",
        "#Now we use SparkSQL to solve the Hive queries.\n",
        "\n",
        "spark.sql(\"SELECT * FROM boston_housing LIMIT 5\").show()\n",
        "\n",
        "##########################################################\n",
        "\n",
        "#Find the total number of records in the Dataset\n",
        "spark.sql(\"SELECT COUNT(*) FROM boston_housing\").show()\n",
        "\n",
        "##########################################################\n",
        "\n"
      ],
      "metadata": {
        "colab": {
          "base_uri": "https://localhost:8080/"
        },
        "id": "Dg42h3H_q7In",
        "outputId": "1454abf1-0a7b-4239-a9fc-8e6b5b8c346b"
      },
      "execution_count": null,
      "outputs": [
        {
          "output_type": "stream",
          "name": "stdout",
          "text": [
            "+-------+----+-----+----+-----+-----+----+------+---+---+-------+------+-----+----+\n",
            "|   crim|  zn|indus|chas|  nox|   rm| age|   dis|rad|tax|ptratio|     b|lstat|medv|\n",
            "+-------+----+-----+----+-----+-----+----+------+---+---+-------+------+-----+----+\n",
            "|0.00632|18.0| 2.31|   0|0.538|6.575|65.2|  4.09|  1|296|   15.3| 396.9| 4.98|24.0|\n",
            "|0.02731| 0.0| 7.07|   0|0.469|6.421|78.9|4.9671|  2|242|   17.8| 396.9| 9.14|21.6|\n",
            "|0.02729| 0.0| 7.07|   0|0.469|7.185|61.1|4.9671|  2|242|   17.8|392.83| 4.03|34.7|\n",
            "|0.03237| 0.0| 2.18|   0|0.458|6.998|45.8|6.0622|  3|222|   18.7|394.63| 2.94|33.4|\n",
            "|0.06905| 0.0| 2.18|   0|0.458|7.147|54.2|6.0622|  3|222|   18.7| 396.9| 5.33|36.2|\n",
            "+-------+----+-----+----+-----+-----+----+------+---+---+-------+------+-----+----+\n",
            "\n",
            "+--------+\n",
            "|count(1)|\n",
            "+--------+\n",
            "|     506|\n",
            "+--------+\n",
            "\n"
          ]
        }
      ]
    },
    {
      "cell_type": "code",
      "source": [
        "#Task 2: Descriptive Statistics\n",
        "\n",
        "\n",
        "##########################################################\n",
        "\n",
        "#Basic Statistics of the MEDV column\n",
        "\n",
        "spark.sql(\"\"\"\n",
        "    SELECT\n",
        "        AVG(medv) AS mean_medv,\n",
        "        STDDEV(medv) AS stddev_medv,\n",
        "        MIN(medv) AS min_medv,\n",
        "        MAX(medv) AS max_medv\n",
        "    FROM boston_housing\n",
        "\"\"\").show()\n",
        "\n",
        "\n",
        "##########################################################\n",
        "\n",
        "\n",
        "#Mean of the \"rm\" column\n",
        "\n",
        "spark.sql(\"SELECT AVG(rm) AS mean_rm FROM boston_housing\").show()\n",
        "\n"
      ],
      "metadata": {
        "colab": {
          "base_uri": "https://localhost:8080/"
        },
        "id": "G3JlNzu9BFct",
        "outputId": "8adfebd8-669e-403a-a251-2ef483976928"
      },
      "execution_count": null,
      "outputs": [
        {
          "output_type": "stream",
          "name": "stdout",
          "text": [
            "+------------------+-----------------+--------+--------+\n",
            "|         mean_medv|      stddev_medv|min_medv|max_medv|\n",
            "+------------------+-----------------+--------+--------+\n",
            "|22.532806324110698|9.197104087379815|     5.0|    50.0|\n",
            "+------------------+-----------------+--------+--------+\n",
            "\n",
            "+-----------------+\n",
            "|          mean_rm|\n",
            "+-----------------+\n",
            "|6.284634387351787|\n",
            "+-----------------+\n",
            "\n"
          ]
        }
      ]
    },
    {
      "cell_type": "code",
      "source": [
        "#Task 3: Data Exploration\n",
        "\n",
        "\n",
        "##########################################################\n",
        "\n",
        "#Property with the highest crime rate\n",
        "\n",
        "spark.sql(\"\"\"SELECT * FROM boston_housing ORDER BY crim DESC LIMIT 1\"\"\").show()\n",
        "\n",
        "##########################################################\n",
        "\n",
        "#Property with the lowest median home value\n",
        "\n",
        "spark.sql(\"\"\" SELECT * FROM boston_housing ORDER BY medv ASC LIMIT 1\"\"\").show()\n",
        "\n",
        "\n",
        "##########################################################"
      ],
      "metadata": {
        "colab": {
          "base_uri": "https://localhost:8080/"
        },
        "id": "5MjDBbj5BoQL",
        "outputId": "14c45b45-2157-46e5-96e1-d5e1d04484be"
      },
      "execution_count": null,
      "outputs": [
        {
          "output_type": "stream",
          "name": "stdout",
          "text": [
            "+-------+---+-----+----+-----+-----+----+------+---+---+-------+-----+-----+----+\n",
            "|   crim| zn|indus|chas|  nox|   rm| age|   dis|rad|tax|ptratio|    b|lstat|medv|\n",
            "+-------+---+-----+----+-----+-----+----+------+---+---+-------+-----+-----+----+\n",
            "|88.9762|0.0| 18.1|   0|0.671|6.968|91.9|1.4165| 24|666|   20.2|396.9|17.21|10.4|\n",
            "+-------+---+-----+----+-----+-----+----+------+---+---+-------+-----+-----+----+\n",
            "\n",
            "+-------+---+-----+----+-----+-----+-----+------+---+---+-------+-----+-----+----+\n",
            "|   crim| zn|indus|chas|  nox|   rm|  age|   dis|rad|tax|ptratio|    b|lstat|medv|\n",
            "+-------+---+-----+----+-----+-----+-----+------+---+---+-------+-----+-----+----+\n",
            "|38.3518|0.0| 18.1|   0|0.693|5.453|100.0|1.4896| 24|666|   20.2|396.9|30.59| 5.0|\n",
            "+-------+---+-----+----+-----+-----+-----+------+---+---+-------+-----+-----+----+\n",
            "\n"
          ]
        }
      ]
    },
    {
      "cell_type": "code",
      "source": [
        "#Task 4: Data Distribution Analysis\n",
        "\n",
        "\n",
        "##########################################################\n",
        "\n",
        "\n",
        "#Histogram of 'Age' column\n",
        "\n",
        "import matplotlib.pyplot as plt\n",
        "\n",
        "ages = [row['age'] for row in spark.sql(\"SELECT age FROM boston_housing\").collect()]\n",
        "plt.hist(ages, bins=20, edgecolor='black')\n",
        "plt.title('Distribution of Property Age')\n",
        "plt.xlabel('Age')\n",
        "plt.ylabel('Frequency')\n",
        "plt.show()\n",
        "\n",
        "##########################################################\n",
        "\n",
        "#Percentage of properties with 'chas' value of 1\n",
        "\n",
        "total_properties = spark.sql(\"SELECT COUNT(*) AS total FROM boston_housing\").collect()[0]['total']\n",
        "chas_1_properties = spark.sql(\"SELECT COUNT(*) AS chas_1_total FROM boston_housing WHERE chas = 1\").collect()[0]['chas_1_total']\n",
        "percentage_chas_1 = (chas_1_properties / total_properties) * 100\n",
        "print(f\"Percentage of properties with chas value of 1: {percentage_chas_1:.2f}%\")\n",
        "\n",
        "##########################################################\n"
      ],
      "metadata": {
        "colab": {
          "base_uri": "https://localhost:8080/",
          "height": 489
        },
        "id": "ZVZ4AvXECIwp",
        "outputId": "e21364cd-f57b-49f3-efb8-4ca283837959"
      },
      "execution_count": null,
      "outputs": [
        {
          "output_type": "display_data",
          "data": {
            "text/plain": [
              "<Figure size 640x480 with 1 Axes>"
            ],
            "image/png": "[encoded data removed]"
          },
          "metadata": {}
        },
        {
          "output_type": "stream",
          "name": "stdout",
          "text": [
            "Percentage of properties with chas value of 1: 6.92%\n"
          ]
        }
      ]
    },
    {
      "cell_type": "code",
      "source": [
        "#Task 5: Correlation Analysis\n",
        "\n",
        "\n",
        "##########################################################\n",
        "\n",
        "\n",
        "#Correlation between \"rm\" and \"medv\"\n",
        "\n",
        "correlation_rm_medv = spark.sql(\"\"\"SELECT CORR(rm, medv) AS correlation_rm_medv FROM boston_housing\"\"\").show()\n",
        "\n",
        "##########################################################\n",
        "\n",
        "\n",
        "#Correlation between \"ptratio\" and \"nox\"\n",
        "\n",
        "correlation_ptratio_nox = spark.sql(\"\"\"SELECT CORR(ptratio, nox) AS correlation_ptratio_nox FROM boston_housing\"\"\").show()\n",
        "\n",
        "\n",
        "##########################################################\n"
      ],
      "metadata": {
        "colab": {
          "base_uri": "https://localhost:8080/"
        },
        "id": "Q_GkoyoACrKB",
        "outputId": "ee19ec69-f872-41d7-9761-9a05ea40efff"
      },
      "execution_count": null,
      "outputs": [
        {
          "output_type": "stream",
          "name": "stdout",
          "text": [
            "+-------------------+\n",
            "|correlation_rm_medv|\n",
            "+-------------------+\n",
            "| 0.6953599470715401|\n",
            "+-------------------+\n",
            "\n",
            "+-----------------------+\n",
            "|correlation_ptratio_nox|\n",
            "+-----------------------+\n",
            "|    0.18893267711276893|\n",
            "+-----------------------+\n",
            "\n"
          ]
        }
      ]
    },
    {
      "cell_type": "code",
      "source": [
        "#Task 6: Advanced Querying\n",
        "\n",
        "\n",
        "##########################################################\n",
        "\n",
        "#Top 5 neighborhoods with the highest median home values (\"medv\")\n",
        "\n",
        "spark.sql(\"\"\"SELECT * FROM boston_housing ORDER BY medv DESC LIMIT 5\"\"\").show()\n",
        "\n",
        "##########################################################\n",
        "\n",
        "\n",
        "#Average property age for neighborhoods with \"chas\" value of 1 vs. 0\n",
        "\n",
        "avg_age_chas_1 = spark.sql(\"\"\"SELECT AVG(age) AS avg_age_chas_1 FROM boston_housing WHERE chas = 1\"\"\").show()\n",
        "\n",
        "avg_age_chas_0 = spark.sql(\"\"\"SELECT AVG(age) AS avg_age_chas_0 FROM boston_housing WHERE chas = 0\"\"\").show()\n",
        "\n",
        "##########################################################\n"
      ],
      "metadata": {
        "colab": {
          "base_uri": "https://localhost:8080/"
        },
        "id": "0SdTdVGvDM85",
        "outputId": "864d0b51-b615-4fa9-a95d-7f30764f0aaa"
      },
      "execution_count": null,
      "outputs": [
        {
          "output_type": "stream",
          "name": "stdout",
          "text": [
            "+-------+----+-----+----+-----+-----+----+------+---+---+-------+------+-----+----+\n",
            "|   crim|  zn|indus|chas|  nox|   rm| age|   dis|rad|tax|ptratio|     b|lstat|medv|\n",
            "+-------+----+-----+----+-----+-----+----+------+---+---+-------+------+-----+----+\n",
            "|1.51902| 0.0|19.58|   1|0.605|8.375|93.9| 2.162|  5|403|   14.7|388.45| 3.32|50.0|\n",
            "|0.01381|80.0| 0.46|   0|0.422|7.875|32.0|5.6484|  4|255|   14.4|394.23| 2.97|50.0|\n",
            "|2.01019| 0.0|19.58|   0|0.605|7.929|96.2|2.0459|  5|403|   14.7| 369.3|  3.7|50.0|\n",
            "|1.83377| 0.0|19.58|   1|0.605|7.802|98.2|2.0407|  5|403|   14.7|389.61| 1.92|50.0|\n",
            "|1.46336| 0.0|19.58|   0|0.605|7.489|90.8|1.9709|  5|403|   14.7|374.43| 1.73|50.0|\n",
            "+-------+----+-----+----+-----+-----+----+------+---+---+-------+------+-----+----+\n",
            "\n",
            "+-----------------+\n",
            "|   avg_age_chas_1|\n",
            "+-----------------+\n",
            "|77.50000000000001|\n",
            "+-----------------+\n",
            "\n",
            "+-----------------+\n",
            "|   avg_age_chas_0|\n",
            "+-----------------+\n",
            "|67.91167728237794|\n",
            "+-----------------+\n",
            "\n"
          ]
        }
      ]
    },
    {
      "cell_type": "code",
      "source": [
        "#Task 7: Visualization\n",
        "\n",
        "\n",
        "##########################################################\n",
        "\n",
        "#Create a Hive view named \"property_age_view\"\n",
        "\n",
        "spark.sql(\"\"\"CREATE OR REPLACE TEMP VIEW property_age_view AS SELECT age, medv FROM boston_housing\"\"\")\n",
        "\n",
        "\n",
        "##########################################################\n",
        "\n",
        "#Plot a scatter plot of property age against median home value\n",
        "\n",
        "property_age_medv = spark.sql(\"SELECT age, medv FROM property_age_view\").toPandas()\n",
        "\n",
        "plt.scatter(property_age_medv['age'], property_age_medv['medv'])\n",
        "plt.title('Property Age vs Median Home Value')\n",
        "plt.xlabel('Age')\n",
        "plt.ylabel('Median Home Value')\n",
        "plt.show()\n",
        "\n",
        "\n",
        "##########################################################"
      ],
      "metadata": {
        "colab": {
          "base_uri": "https://localhost:8080/",
          "height": 472
        },
        "id": "KnMtax1BDhP0",
        "outputId": "aee9711d-711b-4237-c3fd-6d21a0f61e42"
      },
      "execution_count": null,
      "outputs": [
        {
          "output_type": "display_data",
          "data": {
            "text/plain": [
              "<Figure size 640x480 with 1 Axes>"
            ],
            "image/png": "[encoded data removed]"
          },
          "metadata": {}
        }
      ]
    },
    {
      "cell_type": "code",
      "source": [
        "#Task 8: Outliers Detection\n",
        "\n",
        "\n",
        "##########################################################\n",
        "\n",
        "\n",
        "#Identify properties with a \"crim\" value greater than 10\n",
        "\n",
        "spark.sql(\"\"\" SELECT * FROM boston_housing WHERE crim > 10 \"\"\").show()\n"
      ],
      "metadata": {
        "colab": {
          "base_uri": "https://localhost:8080/"
        },
        "id": "mYdF92CcFTEH",
        "outputId": "e5ab369b-8e4e-46c6-a1fd-8156f5d550ad"
      },
      "execution_count": null,
      "outputs": [
        {
          "output_type": "stream",
          "name": "stdout",
          "text": [
            "+-------+---+-----+----+-----+-----+-----+------+---+---+-------+------+-----+----+\n",
            "|   crim| zn|indus|chas|  nox|   rm|  age|   dis|rad|tax|ptratio|     b|lstat|medv|\n",
            "+-------+---+-----+----+-----+-----+-----+------+---+---+-------+------+-----+----+\n",
            "|13.5222|0.0| 18.1|   0|0.631|3.863|100.0|1.5106| 24|666|   20.2|131.42|13.33|23.1|\n",
            "|11.1081|0.0| 18.1|   0|0.668|4.906|100.0|1.1742| 24|666|   20.2| 396.9|34.77|13.8|\n",
            "|18.4982|0.0| 18.1|   0|0.668|4.138|100.0| 1.137| 24|666|   20.2| 396.9|37.97|13.8|\n",
            "|19.6091|0.0| 18.1|   0|0.671|7.313| 97.9|1.3163| 24|666|   20.2| 396.9|13.44|15.0|\n",
            "| 15.288|0.0| 18.1|   0|0.671|6.649| 93.3|1.3449| 24|666|   20.2|363.02|23.24|13.9|\n",
            "|23.6482|0.0| 18.1|   0|0.671| 6.38| 96.2|1.3861| 24|666|   20.2| 396.9|23.69|13.1|\n",
            "|17.8667|0.0| 18.1|   0|0.671|6.223|100.0|1.3861| 24|666|   20.2|393.74|21.78|10.2|\n",
            "|88.9762|0.0| 18.1|   0|0.671|6.968| 91.9|1.4165| 24|666|   20.2| 396.9|17.21|10.4|\n",
            "|15.8744|0.0| 18.1|   0|0.671|6.545| 99.1|1.5192| 24|666|   20.2| 396.9|21.08|10.9|\n",
            "|20.0849|0.0| 18.1|   0|  0.7|4.368| 91.2|1.4395| 24|666|   20.2|285.83|30.63| 8.8|\n",
            "|16.8118|0.0| 18.1|   0|  0.7|5.277| 98.1|1.4261| 24|666|   20.2| 396.9|30.81| 7.2|\n",
            "|24.3938|0.0| 18.1|   0|  0.7|4.652|100.0|1.4672| 24|666|   20.2| 396.9|28.28|10.5|\n",
            "|22.5971|0.0| 18.1|   0|  0.7|  5.0| 89.5|1.5184| 24|666|   20.2| 396.9|31.99| 7.4|\n",
            "|14.3337|0.0| 18.1|   0|  0.7| 4.88|100.0|1.5895| 24|666|   20.2|372.92|30.62|10.2|\n",
            "|11.5779|0.0| 18.1|   0|  0.7|5.036| 97.0|  1.77| 24|666|   20.2| 396.9|25.68| 9.7|\n",
            "|13.3598|0.0| 18.1|   0|0.693|5.887| 94.7|1.7821| 24|666|   20.2| 396.9|16.35|12.7|\n",
            "|38.3518|0.0| 18.1|   0|0.693|5.453|100.0|1.4896| 24|666|   20.2| 396.9|30.59| 5.0|\n",
            "|25.0461|0.0| 18.1|   0|0.693|5.987|100.0|1.5888| 24|666|   20.2| 396.9|26.77| 5.6|\n",
            "|14.2362|0.0| 18.1|   0|0.693|6.343|100.0|1.5741| 24|666|   20.2| 396.9|20.32| 7.2|\n",
            "|24.8017|0.0| 18.1|   0|0.693|5.349| 96.0|1.7028| 24|666|   20.2| 396.9|19.77| 8.3|\n",
            "+-------+---+-----+----+-----+-----+-----+------+---+---+-------+------+-----+----+\n",
            "only showing top 20 rows\n",
            "\n"
          ]
        }
      ]
    },
    {
      "cell_type": "code",
      "source": [],
      "metadata": {
        "id": "V-xDwc_EFZ_F"
      },
      "execution_count": null,
      "outputs": []
    }
  ]
}